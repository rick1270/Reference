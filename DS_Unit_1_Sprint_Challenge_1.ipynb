{
  "nbformat": 4,
  "nbformat_minor": 0,
  "metadata": {
    "colab": {
      "name": "DS_Unit_1_Sprint_Challenge_1.ipynb",
      "version": "0.3.2",
      "provenance": [],
      "collapsed_sections": [],
      "include_colab_link": true
    },
    "kernelspec": {
      "name": "python3",
      "display_name": "Python 3"
    }
  },
  "cells": [
    {
      "cell_type": "markdown",
      "metadata": {
        "id": "view-in-github",
        "colab_type": "text"
      },
      "source": [
        "<a href=\"https://colab.research.google.com/github/rick1270/Reference/blob/master/DS_Unit_1_Sprint_Challenge_1.ipynb\" target=\"_parent\"><img src=\"https://colab.research.google.com/assets/colab-badge.svg\" alt=\"Open In Colab\"/></a>"
      ]
    },
    {
      "metadata": {
        "id": "NooAiTdnafkz",
        "colab_type": "text"
      },
      "cell_type": "markdown",
      "source": [
        "# Data Science Unit 1 Sprint Challenge 1\n",
        "\n",
        "## Loading, cleaning, visualizing, and analyzing data\n",
        "\n",
        "In this sprint challenge you will look at a dataset of the survival of patients who underwent surgery for breast cancer.\n",
        "\n",
        "http://archive.ics.uci.edu/ml/datasets/Haberman%27s+Survival\n",
        "\n",
        "Data Set Information:\n",
        "The dataset contains cases from a study that was conducted between 1958 and 1970 at the University of Chicago's Billings Hospital on the survival of patients who had undergone surgery for breast cancer.\n",
        "\n",
        "Attribute Information:\n",
        "1. Age of patient at time of operation (numerical)\n",
        "2. Patient's year of operation (year - 1900, numerical)\n",
        "3. Number of positive axillary nodes detected (numerical)\n",
        "4. Survival status (class attribute)\n",
        "-- 1 = the patient survived 5 years or longer\n",
        "-- 2 = the patient died within 5 year\n",
        "\n",
        "Sprint challenges are evaluated based on satisfactory completion of each part. It is suggested you work through it in order, getting each aspect reasonably working, before trying to deeply explore, iterate, or refine any given step. Once you get to the end, if you want to go back and improve things, go for it!"
      ]
    },
    {
      "metadata": {
        "id": "5wch6ksCbJtZ",
        "colab_type": "text"
      },
      "cell_type": "markdown",
      "source": [
        "## Part 1 - Load and validate the data\n",
        "\n",
        "- Load the data as a `pandas` data frame.\n",
        "- Validate that it has the appropriate number of observations (you can check the raw file, and also read the dataset description from UCI).\n",
        "- Validate that you have no missing values.\n",
        "- Add informative names to the features.\n",
        "- The survival variable is encoded as 1 for surviving >5 years and 2 for not - change this to be 0 for not surviving and 1 for surviving >5 years (0/1 is a more traditional encoding of binary variables)\n",
        "\n",
        "At the end, print the first five rows of the dataset to demonstrate the above."
      ]
    },
    {
      "metadata": {
        "id": "287TpoGKFRVK",
        "colab_type": "code",
        "outputId": "f1d9620d-a92f-4245-dfa0-c6ead1c9ced6",
        "colab": {
          "base_uri": "https://localhost:8080/",
          "height": 34
        }
      },
      "cell_type": "code",
      "source": [
        "%matplotlib inline\n",
        "import pandas as pd\n",
        "import numpy as np\n",
        "import seaborn as sb\n",
        "import matplotlib.pyplot as plt\n",
        "#Eliminate ... in panda outputpd.set_option('display.height', 1000)\n",
        "pd.set_option('display.max_rows', 500)\n",
        "pd.set_option('display.max_columns', 500)\n",
        "pd.set_option('display.width', 1000)\n",
        "cn_url = \"http://archive.ics.uci.edu/ml/machine-learning-databases/haberman/haberman.data\"\n",
        "df = pd.read_csv(cn_url, header = None)\n",
        "df.columns = [\"Age\", \"Year\", \"Axillary\", \"Survival\"]\n",
        "df.shape"
      ],
      "execution_count": 2,
      "outputs": [
        {
          "output_type": "execute_result",
          "data": {
            "text/plain": [
              "(306, 4)"
            ]
          },
          "metadata": {
            "tags": []
          },
          "execution_count": 2
        }
      ]
    },
    {
      "metadata": {
        "id": "34X47gMgcSSc",
        "colab_type": "code",
        "outputId": "df8d4de0-a967-4042-8ea7-c9637ff6912b",
        "colab": {
          "base_uri": "https://localhost:8080/",
          "height": 204
        }
      },
      "cell_type": "code",
      "source": [
        "df.head()"
      ],
      "execution_count": 3,
      "outputs": [
        {
          "output_type": "execute_result",
          "data": {
            "text/html": [
              "<div>\n",
              "<style scoped>\n",
              "    .dataframe tbody tr th:only-of-type {\n",
              "        vertical-align: middle;\n",
              "    }\n",
              "\n",
              "    .dataframe tbody tr th {\n",
              "        vertical-align: top;\n",
              "    }\n",
              "\n",
              "    .dataframe thead th {\n",
              "        text-align: right;\n",
              "    }\n",
              "</style>\n",
              "<table border=\"1\" class=\"dataframe\">\n",
              "  <thead>\n",
              "    <tr style=\"text-align: right;\">\n",
              "      <th></th>\n",
              "      <th>Age</th>\n",
              "      <th>Year</th>\n",
              "      <th>Axillary</th>\n",
              "      <th>Survival</th>\n",
              "    </tr>\n",
              "  </thead>\n",
              "  <tbody>\n",
              "    <tr>\n",
              "      <th>0</th>\n",
              "      <td>30</td>\n",
              "      <td>64</td>\n",
              "      <td>1</td>\n",
              "      <td>1</td>\n",
              "    </tr>\n",
              "    <tr>\n",
              "      <th>1</th>\n",
              "      <td>30</td>\n",
              "      <td>62</td>\n",
              "      <td>3</td>\n",
              "      <td>1</td>\n",
              "    </tr>\n",
              "    <tr>\n",
              "      <th>2</th>\n",
              "      <td>30</td>\n",
              "      <td>65</td>\n",
              "      <td>0</td>\n",
              "      <td>1</td>\n",
              "    </tr>\n",
              "    <tr>\n",
              "      <th>3</th>\n",
              "      <td>31</td>\n",
              "      <td>59</td>\n",
              "      <td>2</td>\n",
              "      <td>1</td>\n",
              "    </tr>\n",
              "    <tr>\n",
              "      <th>4</th>\n",
              "      <td>31</td>\n",
              "      <td>65</td>\n",
              "      <td>4</td>\n",
              "      <td>1</td>\n",
              "    </tr>\n",
              "  </tbody>\n",
              "</table>\n",
              "</div>"
            ],
            "text/plain": [
              "   Age  Year  Axillary  Survival\n",
              "0   30    64         1         1\n",
              "1   30    62         3         1\n",
              "2   30    65         0         1\n",
              "3   31    59         2         1\n",
              "4   31    65         4         1"
            ]
          },
          "metadata": {
            "tags": []
          },
          "execution_count": 3
        }
      ]
    },
    {
      "metadata": {
        "id": "0LIdcRVmhK5B",
        "colab_type": "code",
        "outputId": "71073919-1bc8-4995-a505-7513775c0719",
        "colab": {
          "base_uri": "https://localhost:8080/",
          "height": 204
        }
      },
      "cell_type": "code",
      "source": [
        "df['Survival'].replace(2, 0, inplace=True)\n",
        "df.head()"
      ],
      "execution_count": 4,
      "outputs": [
        {
          "output_type": "execute_result",
          "data": {
            "text/html": [
              "<div>\n",
              "<style scoped>\n",
              "    .dataframe tbody tr th:only-of-type {\n",
              "        vertical-align: middle;\n",
              "    }\n",
              "\n",
              "    .dataframe tbody tr th {\n",
              "        vertical-align: top;\n",
              "    }\n",
              "\n",
              "    .dataframe thead th {\n",
              "        text-align: right;\n",
              "    }\n",
              "</style>\n",
              "<table border=\"1\" class=\"dataframe\">\n",
              "  <thead>\n",
              "    <tr style=\"text-align: right;\">\n",
              "      <th></th>\n",
              "      <th>Age</th>\n",
              "      <th>Year</th>\n",
              "      <th>Axillary</th>\n",
              "      <th>Survival</th>\n",
              "    </tr>\n",
              "  </thead>\n",
              "  <tbody>\n",
              "    <tr>\n",
              "      <th>0</th>\n",
              "      <td>30</td>\n",
              "      <td>64</td>\n",
              "      <td>1</td>\n",
              "      <td>1</td>\n",
              "    </tr>\n",
              "    <tr>\n",
              "      <th>1</th>\n",
              "      <td>30</td>\n",
              "      <td>62</td>\n",
              "      <td>3</td>\n",
              "      <td>1</td>\n",
              "    </tr>\n",
              "    <tr>\n",
              "      <th>2</th>\n",
              "      <td>30</td>\n",
              "      <td>65</td>\n",
              "      <td>0</td>\n",
              "      <td>1</td>\n",
              "    </tr>\n",
              "    <tr>\n",
              "      <th>3</th>\n",
              "      <td>31</td>\n",
              "      <td>59</td>\n",
              "      <td>2</td>\n",
              "      <td>1</td>\n",
              "    </tr>\n",
              "    <tr>\n",
              "      <th>4</th>\n",
              "      <td>31</td>\n",
              "      <td>65</td>\n",
              "      <td>4</td>\n",
              "      <td>1</td>\n",
              "    </tr>\n",
              "  </tbody>\n",
              "</table>\n",
              "</div>"
            ],
            "text/plain": [
              "   Age  Year  Axillary  Survival\n",
              "0   30    64         1         1\n",
              "1   30    62         3         1\n",
              "2   30    65         0         1\n",
              "3   31    59         2         1\n",
              "4   31    65         4         1"
            ]
          },
          "metadata": {
            "tags": []
          },
          "execution_count": 4
        }
      ]
    },
    {
      "metadata": {
        "id": "o2fa9SIQJEj0",
        "colab_type": "code",
        "outputId": "febadd4d-8556-4d5d-edf8-d835098811fb",
        "colab": {
          "base_uri": "https://localhost:8080/",
          "height": 297
        }
      },
      "cell_type": "code",
      "source": [
        "df.describe()"
      ],
      "execution_count": 5,
      "outputs": [
        {
          "output_type": "execute_result",
          "data": {
            "text/html": [
              "<div>\n",
              "<style scoped>\n",
              "    .dataframe tbody tr th:only-of-type {\n",
              "        vertical-align: middle;\n",
              "    }\n",
              "\n",
              "    .dataframe tbody tr th {\n",
              "        vertical-align: top;\n",
              "    }\n",
              "\n",
              "    .dataframe thead th {\n",
              "        text-align: right;\n",
              "    }\n",
              "</style>\n",
              "<table border=\"1\" class=\"dataframe\">\n",
              "  <thead>\n",
              "    <tr style=\"text-align: right;\">\n",
              "      <th></th>\n",
              "      <th>Age</th>\n",
              "      <th>Year</th>\n",
              "      <th>Axillary</th>\n",
              "      <th>Survival</th>\n",
              "    </tr>\n",
              "  </thead>\n",
              "  <tbody>\n",
              "    <tr>\n",
              "      <th>count</th>\n",
              "      <td>306.000000</td>\n",
              "      <td>306.000000</td>\n",
              "      <td>306.000000</td>\n",
              "      <td>306.000000</td>\n",
              "    </tr>\n",
              "    <tr>\n",
              "      <th>mean</th>\n",
              "      <td>52.457516</td>\n",
              "      <td>62.852941</td>\n",
              "      <td>4.026144</td>\n",
              "      <td>0.735294</td>\n",
              "    </tr>\n",
              "    <tr>\n",
              "      <th>std</th>\n",
              "      <td>10.803452</td>\n",
              "      <td>3.249405</td>\n",
              "      <td>7.189654</td>\n",
              "      <td>0.441899</td>\n",
              "    </tr>\n",
              "    <tr>\n",
              "      <th>min</th>\n",
              "      <td>30.000000</td>\n",
              "      <td>58.000000</td>\n",
              "      <td>0.000000</td>\n",
              "      <td>0.000000</td>\n",
              "    </tr>\n",
              "    <tr>\n",
              "      <th>25%</th>\n",
              "      <td>44.000000</td>\n",
              "      <td>60.000000</td>\n",
              "      <td>0.000000</td>\n",
              "      <td>0.000000</td>\n",
              "    </tr>\n",
              "    <tr>\n",
              "      <th>50%</th>\n",
              "      <td>52.000000</td>\n",
              "      <td>63.000000</td>\n",
              "      <td>1.000000</td>\n",
              "      <td>1.000000</td>\n",
              "    </tr>\n",
              "    <tr>\n",
              "      <th>75%</th>\n",
              "      <td>60.750000</td>\n",
              "      <td>65.750000</td>\n",
              "      <td>4.000000</td>\n",
              "      <td>1.000000</td>\n",
              "    </tr>\n",
              "    <tr>\n",
              "      <th>max</th>\n",
              "      <td>83.000000</td>\n",
              "      <td>69.000000</td>\n",
              "      <td>52.000000</td>\n",
              "      <td>1.000000</td>\n",
              "    </tr>\n",
              "  </tbody>\n",
              "</table>\n",
              "</div>"
            ],
            "text/plain": [
              "              Age        Year    Axillary    Survival\n",
              "count  306.000000  306.000000  306.000000  306.000000\n",
              "mean    52.457516   62.852941    4.026144    0.735294\n",
              "std     10.803452    3.249405    7.189654    0.441899\n",
              "min     30.000000   58.000000    0.000000    0.000000\n",
              "25%     44.000000   60.000000    0.000000    0.000000\n",
              "50%     52.000000   63.000000    1.000000    1.000000\n",
              "75%     60.750000   65.750000    4.000000    1.000000\n",
              "max     83.000000   69.000000   52.000000    1.000000"
            ]
          },
          "metadata": {
            "tags": []
          },
          "execution_count": 5
        }
      ]
    },
    {
      "metadata": {
        "id": "G7rLytbrO38L",
        "colab_type": "text"
      },
      "cell_type": "markdown",
      "source": [
        "## Part 2 - Examine the distribution and relationships of the features\n",
        "\n",
        "Explore the data - create at least *2* tables (can be summary statistics or crosstabulations) and *2* plots illustrating the nature of the data.\n",
        "\n",
        "This is open-ended, so to remind - first *complete* this task as a baseline, then go on to the remaining sections, and *then* as time allows revisit and explore further.\n",
        "\n",
        "Hint - you may need to bin some variables depending on your chosen tables/plots."
      ]
    },
    {
      "metadata": {
        "id": "IAkllgCIFVj0",
        "colab_type": "code",
        "outputId": "56b58b32-ad0e-4dd1-c162-c655512db39c",
        "colab": {
          "base_uri": "https://localhost:8080/",
          "height": 390
        }
      },
      "cell_type": "code",
      "source": [
        "age_bins = pd.cut(df['Age'], 10, labels = ['30 to 35.3', '35.4 to 40.6', '40.7 to 45.9', '46 to 51.2', '51.3 to 56.5', '56.6 to 61.8', '61.9 to 67.1', '67.2 to 72.4', '72.5 to 77.7', '77.8 to 83'])\n",
        "age = pd.crosstab(age_bins, df['Survival'], normalize = 'index')*100\n",
        "age.head(10)"
      ],
      "execution_count": 20,
      "outputs": [
        {
          "output_type": "execute_result",
          "data": {
            "text/html": [
              "<div>\n",
              "<style scoped>\n",
              "    .dataframe tbody tr th:only-of-type {\n",
              "        vertical-align: middle;\n",
              "    }\n",
              "\n",
              "    .dataframe tbody tr th {\n",
              "        vertical-align: top;\n",
              "    }\n",
              "\n",
              "    .dataframe thead th {\n",
              "        text-align: right;\n",
              "    }\n",
              "</style>\n",
              "<table border=\"1\" class=\"dataframe\">\n",
              "  <thead>\n",
              "    <tr style=\"text-align: right;\">\n",
              "      <th>Survival</th>\n",
              "      <th>0</th>\n",
              "      <th>1</th>\n",
              "    </tr>\n",
              "    <tr>\n",
              "      <th>Age</th>\n",
              "      <th></th>\n",
              "      <th></th>\n",
              "    </tr>\n",
              "  </thead>\n",
              "  <tbody>\n",
              "    <tr>\n",
              "      <th>30 to 35.3</th>\n",
              "      <td>12.500000</td>\n",
              "      <td>87.500000</td>\n",
              "    </tr>\n",
              "    <tr>\n",
              "      <th>35.4 to 40.6</th>\n",
              "      <td>7.407407</td>\n",
              "      <td>92.592593</td>\n",
              "    </tr>\n",
              "    <tr>\n",
              "      <th>40.7 to 45.9</th>\n",
              "      <td>32.608696</td>\n",
              "      <td>67.391304</td>\n",
              "    </tr>\n",
              "    <tr>\n",
              "      <th>46 to 51.2</th>\n",
              "      <td>30.188679</td>\n",
              "      <td>69.811321</td>\n",
              "    </tr>\n",
              "    <tr>\n",
              "      <th>51.3 to 56.5</th>\n",
              "      <td>32.727273</td>\n",
              "      <td>67.272727</td>\n",
              "    </tr>\n",
              "    <tr>\n",
              "      <th>56.6 to 61.8</th>\n",
              "      <td>21.951220</td>\n",
              "      <td>78.048780</td>\n",
              "    </tr>\n",
              "    <tr>\n",
              "      <th>61.9 to 67.1</th>\n",
              "      <td>29.268293</td>\n",
              "      <td>70.731707</td>\n",
              "    </tr>\n",
              "    <tr>\n",
              "      <th>67.2 to 72.4</th>\n",
              "      <td>22.222222</td>\n",
              "      <td>77.777778</td>\n",
              "    </tr>\n",
              "    <tr>\n",
              "      <th>72.5 to 77.7</th>\n",
              "      <td>14.285714</td>\n",
              "      <td>85.714286</td>\n",
              "    </tr>\n",
              "    <tr>\n",
              "      <th>77.8 to 83</th>\n",
              "      <td>100.000000</td>\n",
              "      <td>0.000000</td>\n",
              "    </tr>\n",
              "  </tbody>\n",
              "</table>\n",
              "</div>"
            ],
            "text/plain": [
              "Survival               0          1\n",
              "Age                                \n",
              "30 to 35.3     12.500000  87.500000\n",
              "35.4 to 40.6    7.407407  92.592593\n",
              "40.7 to 45.9   32.608696  67.391304\n",
              "46 to 51.2     30.188679  69.811321\n",
              "51.3 to 56.5   32.727273  67.272727\n",
              "56.6 to 61.8   21.951220  78.048780\n",
              "61.9 to 67.1   29.268293  70.731707\n",
              "67.2 to 72.4   22.222222  77.777778\n",
              "72.5 to 77.7   14.285714  85.714286\n",
              "77.8 to 83    100.000000   0.000000"
            ]
          },
          "metadata": {
            "tags": []
          },
          "execution_count": 20
        }
      ]
    },
    {
      "metadata": {
        "id": "Uhm6mrygkGvV",
        "colab_type": "code",
        "outputId": "a49cd3a0-677b-4050-adee-896caa2a6996",
        "colab": {
          "base_uri": "https://localhost:8080/",
          "height": 390
        }
      },
      "cell_type": "code",
      "source": [
        "year_bins = pd.cut(df['Year'],10, labels = ['58 to 59.1', '59.2 to 60.2', '60.3 to 61.3', '61.4 to 62.4', '62.5 to 63.5', '63.6 to 64.6', '64.7 to 65.7', '65.8 to 66.8', '66.9 to 67.9', '68 to 69'])\n",
        "year = pd.crosstab(year_bins, df['Survival'], normalize = 'index')*100\n",
        "year.head(10)"
      ],
      "execution_count": 7,
      "outputs": [
        {
          "output_type": "execute_result",
          "data": {
            "text/html": [
              "<div>\n",
              "<style scoped>\n",
              "    .dataframe tbody tr th:only-of-type {\n",
              "        vertical-align: middle;\n",
              "    }\n",
              "\n",
              "    .dataframe tbody tr th {\n",
              "        vertical-align: top;\n",
              "    }\n",
              "\n",
              "    .dataframe thead th {\n",
              "        text-align: right;\n",
              "    }\n",
              "</style>\n",
              "<table border=\"1\" class=\"dataframe\">\n",
              "  <thead>\n",
              "    <tr style=\"text-align: right;\">\n",
              "      <th>Survival</th>\n",
              "      <th>0</th>\n",
              "      <th>1</th>\n",
              "    </tr>\n",
              "    <tr>\n",
              "      <th>Year</th>\n",
              "      <th></th>\n",
              "      <th></th>\n",
              "    </tr>\n",
              "  </thead>\n",
              "  <tbody>\n",
              "    <tr>\n",
              "      <th>58 to 59.1</th>\n",
              "      <td>33.333333</td>\n",
              "      <td>66.666667</td>\n",
              "    </tr>\n",
              "    <tr>\n",
              "      <th>59.2 to 60.2</th>\n",
              "      <td>14.285714</td>\n",
              "      <td>85.714286</td>\n",
              "    </tr>\n",
              "    <tr>\n",
              "      <th>60.3 to 61.3</th>\n",
              "      <td>11.538462</td>\n",
              "      <td>88.461538</td>\n",
              "    </tr>\n",
              "    <tr>\n",
              "      <th>61.4 to 62.4</th>\n",
              "      <td>30.434783</td>\n",
              "      <td>69.565217</td>\n",
              "    </tr>\n",
              "    <tr>\n",
              "      <th>62.5 to 63.5</th>\n",
              "      <td>26.666667</td>\n",
              "      <td>73.333333</td>\n",
              "    </tr>\n",
              "    <tr>\n",
              "      <th>63.6 to 64.6</th>\n",
              "      <td>25.806452</td>\n",
              "      <td>74.193548</td>\n",
              "    </tr>\n",
              "    <tr>\n",
              "      <th>64.7 to 65.7</th>\n",
              "      <td>46.428571</td>\n",
              "      <td>53.571429</td>\n",
              "    </tr>\n",
              "    <tr>\n",
              "      <th>65.8 to 66.8</th>\n",
              "      <td>21.428571</td>\n",
              "      <td>78.571429</td>\n",
              "    </tr>\n",
              "    <tr>\n",
              "      <th>66.9 to 67.9</th>\n",
              "      <td>16.000000</td>\n",
              "      <td>84.000000</td>\n",
              "    </tr>\n",
              "    <tr>\n",
              "      <th>68 to 69</th>\n",
              "      <td>29.166667</td>\n",
              "      <td>70.833333</td>\n",
              "    </tr>\n",
              "  </tbody>\n",
              "</table>\n",
              "</div>"
            ],
            "text/plain": [
              "Survival              0          1\n",
              "Year                              \n",
              "58 to 59.1    33.333333  66.666667\n",
              "59.2 to 60.2  14.285714  85.714286\n",
              "60.3 to 61.3  11.538462  88.461538\n",
              "61.4 to 62.4  30.434783  69.565217\n",
              "62.5 to 63.5  26.666667  73.333333\n",
              "63.6 to 64.6  25.806452  74.193548\n",
              "64.7 to 65.7  46.428571  53.571429\n",
              "65.8 to 66.8  21.428571  78.571429\n",
              "66.9 to 67.9  16.000000  84.000000\n",
              "68 to 69      29.166667  70.833333"
            ]
          },
          "metadata": {
            "tags": []
          },
          "execution_count": 7
        }
      ]
    },
    {
      "metadata": {
        "id": "btVyahUrkG9v",
        "colab_type": "code",
        "outputId": "89d872a9-8adc-4a01-b2fd-4e420c7426a3",
        "colab": {
          "base_uri": "https://localhost:8080/",
          "height": 390
        }
      },
      "cell_type": "code",
      "source": [
        "axillary_bins = pd.cut(df['Axillary'],10, labels = ['0 to 5.2', '5.3 to 10.4', '10.5 to 15.6', '15.7 to 20.8', '20.9 to 26', '26.1 to 31.2', '31.3 to 36.4', '36.5 to 41.6', '41.7 to 46.8', '46.9 to 52'])\n",
        "axillary = pd.crosstab(axillary_bins, df['Survival'], normalize = 'index')*100\n",
        "axillary.head(10)"
      ],
      "execution_count": 8,
      "outputs": [
        {
          "output_type": "execute_result",
          "data": {
            "text/html": [
              "<div>\n",
              "<style scoped>\n",
              "    .dataframe tbody tr th:only-of-type {\n",
              "        vertical-align: middle;\n",
              "    }\n",
              "\n",
              "    .dataframe tbody tr th {\n",
              "        vertical-align: top;\n",
              "    }\n",
              "\n",
              "    .dataframe thead th {\n",
              "        text-align: right;\n",
              "    }\n",
              "</style>\n",
              "<table border=\"1\" class=\"dataframe\">\n",
              "  <thead>\n",
              "    <tr style=\"text-align: right;\">\n",
              "      <th>Survival</th>\n",
              "      <th>0</th>\n",
              "      <th>1</th>\n",
              "    </tr>\n",
              "    <tr>\n",
              "      <th>Axillary</th>\n",
              "      <th></th>\n",
              "      <th></th>\n",
              "    </tr>\n",
              "  </thead>\n",
              "  <tbody>\n",
              "    <tr>\n",
              "      <th>0 to 5.2</th>\n",
              "      <td>19.491525</td>\n",
              "      <td>80.508475</td>\n",
              "    </tr>\n",
              "    <tr>\n",
              "      <th>5.3 to 10.4</th>\n",
              "      <td>40.000000</td>\n",
              "      <td>60.000000</td>\n",
              "    </tr>\n",
              "    <tr>\n",
              "      <th>10.5 to 15.6</th>\n",
              "      <td>61.111111</td>\n",
              "      <td>38.888889</td>\n",
              "    </tr>\n",
              "    <tr>\n",
              "      <th>15.7 to 20.8</th>\n",
              "      <td>50.000000</td>\n",
              "      <td>50.000000</td>\n",
              "    </tr>\n",
              "    <tr>\n",
              "      <th>20.9 to 26</th>\n",
              "      <td>66.666667</td>\n",
              "      <td>33.333333</td>\n",
              "    </tr>\n",
              "    <tr>\n",
              "      <th>26.1 to 31.2</th>\n",
              "      <td>0.000000</td>\n",
              "      <td>100.000000</td>\n",
              "    </tr>\n",
              "    <tr>\n",
              "      <th>31.3 to 36.4</th>\n",
              "      <td>100.000000</td>\n",
              "      <td>0.000000</td>\n",
              "    </tr>\n",
              "    <tr>\n",
              "      <th>36.5 to 41.6</th>\n",
              "      <td>0.000000</td>\n",
              "      <td>0.000000</td>\n",
              "    </tr>\n",
              "    <tr>\n",
              "      <th>41.7 to 46.8</th>\n",
              "      <td>0.000000</td>\n",
              "      <td>100.000000</td>\n",
              "    </tr>\n",
              "    <tr>\n",
              "      <th>46.9 to 52</th>\n",
              "      <td>100.000000</td>\n",
              "      <td>0.000000</td>\n",
              "    </tr>\n",
              "  </tbody>\n",
              "</table>\n",
              "</div>"
            ],
            "text/plain": [
              "Survival               0           1\n",
              "Axillary                            \n",
              "0 to 5.2       19.491525   80.508475\n",
              "5.3 to 10.4    40.000000   60.000000\n",
              "10.5 to 15.6   61.111111   38.888889\n",
              "15.7 to 20.8   50.000000   50.000000\n",
              "20.9 to 26     66.666667   33.333333\n",
              "26.1 to 31.2    0.000000  100.000000\n",
              "31.3 to 36.4  100.000000    0.000000\n",
              "36.5 to 41.6    0.000000    0.000000\n",
              "41.7 to 46.8    0.000000  100.000000\n",
              "46.9 to 52    100.000000    0.000000"
            ]
          },
          "metadata": {
            "tags": []
          },
          "execution_count": 8
        }
      ]
    },
    {
      "metadata": {
        "id": "khMRLX2xkHMd",
        "colab_type": "code",
        "colab": {
          "base_uri": "https://localhost:8080/",
          "height": 269
        },
        "outputId": "bce32afb-2b6f-4f7a-ecdc-b9f047def60d"
      },
      "cell_type": "code",
      "source": [
        "fig = plt.figure()\n",
        "fig.add_subplot(1, 2, 1)   #top and bottom left\n",
        "fig.add_subplot(2, 2, 2)   #top right\n",
        "fig.add_subplot(2, 2, 4)   #bottom right \n",
        "plt.show()"
      ],
      "execution_count": 9,
      "outputs": [
        {
          "output_type": "display_data",
          "data": {
            "image/png": "[encoded data removed]",
            "text/plain": [
              "<matplotlib.figure.Figure at 0x7f77a31fec50>"
            ]
          },
          "metadata": {
            "tags": []
          }
        }
      ]
    },
    {
      "metadata": {
        "id": "qr-l43qbPQ7y",
        "colab_type": "code",
        "outputId": "7d328cd5-d838-4a0e-ab41-8315f8d345c2",
        "colab": {
          "base_uri": "https://localhost:8080/",
          "height": 422
        }
      },
      "cell_type": "code",
      "source": [
        "fig = plt.figure\n",
        "fig, (ax1, ax2, ax3) = plt.subplots(nrows=1, ncols=3, sharey = True)\n",
        "fig.set_figheight(5)\n",
        "fig.set_figwidth(20)\n",
        "fig.tight_layout()\n",
        "age.plot.bar(ax = ax1, legend = None)\n",
        "year.plot.bar(ax = ax2, legend = None)\n",
        "axillary.plot.bar(ax = ax3, legend = None);\n",
        "ax3.legend(['Live < 5 Yrs', 'Live > 5 Yrs'], loc = 'upper right', bbox_to_anchor=(1.2, 1), frameon = True);\n"
      ],
      "execution_count": 35,
      "outputs": [
        {
          "output_type": "display_data",
          "data": {
            "image/png": "[encoded data removed]",
            "text/plain": [
              "<matplotlib.figure.Figure at 0x7f779f03a748>"
            ]
          },
          "metadata": {
            "tags": []
          }
        }
      ]
    },
    {
      "metadata": {
        "id": "Iv1CdWKAirFa",
        "colab_type": "code",
        "colab": {
          "base_uri": "https://localhost:8080/",
          "height": 34
        },
        "outputId": "8f28eae1-0a04-4eea-9ee2-3a4789f7bb3f"
      },
      "cell_type": "code",
      "source": [
        "np.arange(10)"
      ],
      "execution_count": 12,
      "outputs": [
        {
          "output_type": "execute_result",
          "data": {
            "text/plain": [
              "array([0, 1, 2, 3, 4, 5, 6, 7, 8, 9])"
            ]
          },
          "metadata": {
            "tags": []
          },
          "execution_count": 12
        }
      ]
    },
    {
      "metadata": {
        "id": "ZM8JckA2bgnp",
        "colab_type": "text"
      },
      "cell_type": "markdown",
      "source": [
        "## Part 3 - Analysis and Interpretation\n",
        "\n",
        "Now that you've looked at the data, answer the following questions:\n",
        "\n",
        "- What is at least one feature that looks to have a positive correlation with survival?\n",
        "- What is at least one feature that looks to have a negative correlation with survival?\n",
        "- How are those two features related with each other, and what might that mean?\n",
        "\n",
        "Answer with text, but feel free to intersperse example code/results or refer to it from earlier."
      ]
    }
  ]
}